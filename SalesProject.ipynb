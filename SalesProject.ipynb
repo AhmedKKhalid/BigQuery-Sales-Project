{
 "cells": [
  {
   "cell_type": "code",
   "execution_count": 162,
   "id": "f1c9ec59",
   "metadata": {},
   "outputs": [],
   "source": [
    "import pandas as pd\n",
    "import numpy as np\n",
    "\n",
    "import matplotlib.pylab as plt \n",
    "import seaborn as sns\n",
    "sns.set(palette='magma', color_codes=True,style='dark')\n",
    "\n",
    "from statsmodels.stats.multicomp import pairwise_tukeyhsd\n",
    "\n",
    "from sklearn.preprocessing import LabelEncoder\n",
    "from sklearn.cluster import KMeans\n",
    "from sklearn.model_selection  import train_test_split \n",
    "\n",
    "from google.cloud import bigquery\n",
    "import os"
   ]
  },
  {
   "cell_type": "code",
   "execution_count": 2,
   "id": "1d45169c",
   "metadata": {},
   "outputs": [],
   "source": [
    "os.environ['GOOGLE_APPLICATION_CREDENTIALS'] = r\"G:\\Downloads\\diom-f00db-d53b3b55093e.json\""
   ]
  },
  {
   "cell_type": "code",
   "execution_count": 3,
   "id": "d050c9a9",
   "metadata": {},
   "outputs": [],
   "source": [
    "from google.cloud import bigquery\n",
    "\n",
    "client = bigquery.Client()\n",
    "\n",
    "# Perform a query.\n",
    "QUERY = (\n",
    "    'SELECT * FROM `diom-f00db.SalesData.Sales_tb`'\n",
    "    'WHERE Order_ID IS NOT NULL'\n",
    ")\n",
    "query_job = client.query(QUERY)  # API request\n",
    "    "
   ]
  },
  {
   "cell_type": "code",
   "execution_count": 43,
   "id": "262d1579",
   "metadata": {},
   "outputs": [
    {
     "data": {
      "text/html": [
       "<div>\n",
       "<style scoped>\n",
       "    .dataframe tbody tr th:only-of-type {\n",
       "        vertical-align: middle;\n",
       "    }\n",
       "\n",
       "    .dataframe tbody tr th {\n",
       "        vertical-align: top;\n",
       "    }\n",
       "\n",
       "    .dataframe thead th {\n",
       "        text-align: right;\n",
       "    }\n",
       "</style>\n",
       "<table border=\"1\" class=\"dataframe\">\n",
       "  <thead>\n",
       "    <tr style=\"text-align: right;\">\n",
       "      <th></th>\n",
       "      <th>Order_ID</th>\n",
       "      <th>Product</th>\n",
       "      <th>Quantity_Ordered</th>\n",
       "      <th>Price_Each</th>\n",
       "      <th>Order_Date</th>\n",
       "      <th>Purchase_Address</th>\n",
       "      <th>State_Key</th>\n",
       "    </tr>\n",
       "  </thead>\n",
       "  <tbody>\n",
       "    <tr>\n",
       "      <th>0</th>\n",
       "      <td>162037</td>\n",
       "      <td>iPhone</td>\n",
       "      <td>1</td>\n",
       "      <td>700.0</td>\n",
       "      <td>2019-03-23 02:11:00+00:00</td>\n",
       "      <td>277 Elm St, Los Angeles, CA 90001</td>\n",
       "      <td>CA 90001</td>\n",
       "    </tr>\n",
       "    <tr>\n",
       "      <th>1</th>\n",
       "      <td>162084</td>\n",
       "      <td>iPhone</td>\n",
       "      <td>1</td>\n",
       "      <td>700.0</td>\n",
       "      <td>2019-03-27 12:53:00+00:00</td>\n",
       "      <td>585 14th St, Los Angeles, CA 90001</td>\n",
       "      <td>CA 90001</td>\n",
       "    </tr>\n",
       "    <tr>\n",
       "      <th>2</th>\n",
       "      <td>162325</td>\n",
       "      <td>iPhone</td>\n",
       "      <td>1</td>\n",
       "      <td>700.0</td>\n",
       "      <td>2019-03-26 23:54:00+00:00</td>\n",
       "      <td>789 6th St, Los Angeles, CA 90001</td>\n",
       "      <td>CA 90001</td>\n",
       "    </tr>\n",
       "    <tr>\n",
       "      <th>3</th>\n",
       "      <td>162338</td>\n",
       "      <td>iPhone</td>\n",
       "      <td>1</td>\n",
       "      <td>700.0</td>\n",
       "      <td>2019-03-22 00:42:00+00:00</td>\n",
       "      <td>516 Madison St, Los Angeles, CA 90001</td>\n",
       "      <td>CA 90001</td>\n",
       "    </tr>\n",
       "    <tr>\n",
       "      <th>4</th>\n",
       "      <td>182018</td>\n",
       "      <td>iPhone</td>\n",
       "      <td>1</td>\n",
       "      <td>700.0</td>\n",
       "      <td>2019-04-21 15:37:00+00:00</td>\n",
       "      <td>165 13th St, Los Angeles, CA 90001</td>\n",
       "      <td>CA 90001</td>\n",
       "    </tr>\n",
       "  </tbody>\n",
       "</table>\n",
       "</div>"
      ],
      "text/plain": [
       "   Order_ID Product  Quantity_Ordered  Price_Each                Order_Date   \n",
       "0    162037  iPhone                 1       700.0 2019-03-23 02:11:00+00:00  \\\n",
       "1    162084  iPhone                 1       700.0 2019-03-27 12:53:00+00:00   \n",
       "2    162325  iPhone                 1       700.0 2019-03-26 23:54:00+00:00   \n",
       "3    162338  iPhone                 1       700.0 2019-03-22 00:42:00+00:00   \n",
       "4    182018  iPhone                 1       700.0 2019-04-21 15:37:00+00:00   \n",
       "\n",
       "                        Purchase_Address State_Key  \n",
       "0      277 Elm St, Los Angeles, CA 90001  CA 90001  \n",
       "1     585 14th St, Los Angeles, CA 90001  CA 90001  \n",
       "2      789 6th St, Los Angeles, CA 90001  CA 90001  \n",
       "3  516 Madison St, Los Angeles, CA 90001  CA 90001  \n",
       "4     165 13th St, Los Angeles, CA 90001  CA 90001  "
      ]
     },
     "execution_count": 43,
     "metadata": {},
     "output_type": "execute_result"
    }
   ],
   "source": [
    "df = client.query(QUERY).to_dataframe()\n",
    "df.head(5)"
   ]
  },
  {
   "cell_type": "code",
   "execution_count": 44,
   "id": "a4e59696",
   "metadata": {},
   "outputs": [
    {
     "data": {
      "text/html": [
       "<div>\n",
       "<style scoped>\n",
       "    .dataframe tbody tr th:only-of-type {\n",
       "        vertical-align: middle;\n",
       "    }\n",
       "\n",
       "    .dataframe tbody tr th {\n",
       "        vertical-align: top;\n",
       "    }\n",
       "\n",
       "    .dataframe thead th {\n",
       "        text-align: right;\n",
       "    }\n",
       "</style>\n",
       "<table border=\"1\" class=\"dataframe\">\n",
       "  <thead>\n",
       "    <tr style=\"text-align: right;\">\n",
       "      <th></th>\n",
       "      <th>Order_ID</th>\n",
       "      <th>Quantity_Ordered</th>\n",
       "      <th>Price_Each</th>\n",
       "    </tr>\n",
       "  </thead>\n",
       "  <tbody>\n",
       "    <tr>\n",
       "      <th>count</th>\n",
       "      <td>185950.0</td>\n",
       "      <td>185950.0</td>\n",
       "      <td>185950.000000</td>\n",
       "    </tr>\n",
       "    <tr>\n",
       "      <th>mean</th>\n",
       "      <td>230417.569379</td>\n",
       "      <td>1.124383</td>\n",
       "      <td>184.399735</td>\n",
       "    </tr>\n",
       "    <tr>\n",
       "      <th>std</th>\n",
       "      <td>51512.73711</td>\n",
       "      <td>0.442793</td>\n",
       "      <td>332.731330</td>\n",
       "    </tr>\n",
       "    <tr>\n",
       "      <th>min</th>\n",
       "      <td>141234.0</td>\n",
       "      <td>1.0</td>\n",
       "      <td>2.990000</td>\n",
       "    </tr>\n",
       "    <tr>\n",
       "      <th>25%</th>\n",
       "      <td>185831.25</td>\n",
       "      <td>1.0</td>\n",
       "      <td>11.950000</td>\n",
       "    </tr>\n",
       "    <tr>\n",
       "      <th>50%</th>\n",
       "      <td>230367.5</td>\n",
       "      <td>1.0</td>\n",
       "      <td>14.950000</td>\n",
       "    </tr>\n",
       "    <tr>\n",
       "      <th>75%</th>\n",
       "      <td>275035.75</td>\n",
       "      <td>1.0</td>\n",
       "      <td>150.000000</td>\n",
       "    </tr>\n",
       "    <tr>\n",
       "      <th>max</th>\n",
       "      <td>319670.0</td>\n",
       "      <td>9.0</td>\n",
       "      <td>1700.000000</td>\n",
       "    </tr>\n",
       "  </tbody>\n",
       "</table>\n",
       "</div>"
      ],
      "text/plain": [
       "            Order_ID  Quantity_Ordered     Price_Each\n",
       "count       185950.0          185950.0  185950.000000\n",
       "mean   230417.569379          1.124383     184.399735\n",
       "std      51512.73711          0.442793     332.731330\n",
       "min         141234.0               1.0       2.990000\n",
       "25%        185831.25               1.0      11.950000\n",
       "50%         230367.5               1.0      14.950000\n",
       "75%        275035.75               1.0     150.000000\n",
       "max         319670.0               9.0    1700.000000"
      ]
     },
     "execution_count": 44,
     "metadata": {},
     "output_type": "execute_result"
    }
   ],
   "source": [
    "# describtion \n",
    "df.describe()"
   ]
  },
  {
   "cell_type": "code",
   "execution_count": 45,
   "id": "5a349faf",
   "metadata": {},
   "outputs": [
    {
     "name": "stdout",
     "output_type": "stream",
     "text": [
      "<class 'pandas.core.frame.DataFrame'>\n",
      "RangeIndex: 185950 entries, 0 to 185949\n",
      "Data columns (total 7 columns):\n",
      " #   Column            Non-Null Count   Dtype              \n",
      "---  ------            --------------   -----              \n",
      " 0   Order_ID          185950 non-null  Int64              \n",
      " 1   Product           185950 non-null  object             \n",
      " 2   Quantity_Ordered  185950 non-null  Int64              \n",
      " 3   Price_Each        185950 non-null  float64            \n",
      " 4   Order_Date        185950 non-null  datetime64[ns, UTC]\n",
      " 5   Purchase_Address  185950 non-null  object             \n",
      " 6   State_Key         185950 non-null  object             \n",
      "dtypes: Int64(2), datetime64[ns, UTC](1), float64(1), object(3)\n",
      "memory usage: 10.3+ MB\n"
     ]
    }
   ],
   "source": [
    "# info\n",
    "df.info()"
   ]
  },
  {
   "cell_type": "code",
   "execution_count": 46,
   "id": "a4aa78ca",
   "metadata": {},
   "outputs": [
    {
     "data": {
      "text/plain": [
       "Order_ID            0\n",
       "Product             0\n",
       "Quantity_Ordered    0\n",
       "Price_Each          0\n",
       "Order_Date          0\n",
       "Purchase_Address    0\n",
       "State_Key           0\n",
       "dtype: int64"
      ]
     },
     "execution_count": 46,
     "metadata": {},
     "output_type": "execute_result"
    }
   ],
   "source": [
    "#check for na \n",
    "df.isna().sum()"
   ]
  },
  {
   "cell_type": "markdown",
   "id": "493e5bf8",
   "metadata": {},
   "source": [
    "## EDA"
   ]
  },
  {
   "cell_type": "code",
   "execution_count": 47,
   "id": "57fa6e03",
   "metadata": {
    "scrolled": false
   },
   "outputs": [
    {
     "data": {
      "text/plain": [
       "<seaborn.axisgrid.FacetGrid at 0x15f6f59dc70>"
      ]
     },
     "execution_count": 47,
     "metadata": {},
     "output_type": "execute_result"
    },
    {
     "data": {
      "image/png": "[encoded data removed]",
      "text/plain": [
       "<Figure size 500x500 with 1 Axes>"
      ]
     },
     "metadata": {},
     "output_type": "display_data"
    }
   ],
   "source": [
    "# distribution\n",
    "sns.displot(df['Price_Each'], kind='kde',)"
   ]
  },
  {
   "cell_type": "code",
   "execution_count": 48,
   "id": "44aab6de",
   "metadata": {
    "scrolled": false
   },
   "outputs": [
    {
     "name": "stdout",
     "output_type": "stream",
     "text": [
      "Quantity_Ordered\n",
      "1    168552\n",
      "2     13324\n",
      "3      2920\n",
      "4       806\n",
      "5       236\n",
      "6        80\n",
      "7        24\n",
      "8         5\n",
      "9         3\n",
      "Name: count, dtype: Int64\n"
     ]
    },
    {
     "data": {
      "text/plain": [
       "<AxesSubplot:xlabel='Quantity_Ordered'>"
      ]
     },
     "execution_count": 48,
     "metadata": {},
     "output_type": "execute_result"
    },
    {
     "data": {
      "image/png": "[encoded data removed]",
      "text/plain": [
       "<Figure size 700x400 with 1 Axes>"
      ]
     },
     "metadata": {},
     "output_type": "display_data"
    }
   ],
   "source": [
    "# Quantity_Ordered distribution\n",
    "q1 = df['Quantity_Ordered'].value_counts()\n",
    "print(q1)\n",
    "plt.figure(figsize=(7,4))\n",
    "q1.plot.bar()"
   ]
  },
  {
   "cell_type": "code",
   "execution_count": 49,
   "id": "bd5288f4",
   "metadata": {},
   "outputs": [
    {
     "data": {
      "text/html": [
       "<div>\n",
       "<style scoped>\n",
       "    .dataframe tbody tr th:only-of-type {\n",
       "        vertical-align: middle;\n",
       "    }\n",
       "\n",
       "    .dataframe tbody tr th {\n",
       "        vertical-align: top;\n",
       "    }\n",
       "\n",
       "    .dataframe thead th {\n",
       "        text-align: right;\n",
       "    }\n",
       "</style>\n",
       "<table border=\"1\" class=\"dataframe\">\n",
       "  <thead>\n",
       "    <tr style=\"text-align: right;\">\n",
       "      <th></th>\n",
       "      <th>Order_ID</th>\n",
       "      <th>Quantity_Ordered</th>\n",
       "      <th>Price_Each</th>\n",
       "    </tr>\n",
       "  </thead>\n",
       "  <tbody>\n",
       "    <tr>\n",
       "      <th>Order_ID</th>\n",
       "      <td>1.000000</td>\n",
       "      <td>0.000702</td>\n",
       "      <td>-0.002857</td>\n",
       "    </tr>\n",
       "    <tr>\n",
       "      <th>Quantity_Ordered</th>\n",
       "      <td>0.000702</td>\n",
       "      <td>1.000000</td>\n",
       "      <td>-0.148272</td>\n",
       "    </tr>\n",
       "    <tr>\n",
       "      <th>Price_Each</th>\n",
       "      <td>-0.002857</td>\n",
       "      <td>-0.148272</td>\n",
       "      <td>1.000000</td>\n",
       "    </tr>\n",
       "  </tbody>\n",
       "</table>\n",
       "</div>"
      ],
      "text/plain": [
       "                  Order_ID  Quantity_Ordered  Price_Each\n",
       "Order_ID          1.000000          0.000702   -0.002857\n",
       "Quantity_Ordered  0.000702          1.000000   -0.148272\n",
       "Price_Each       -0.002857         -0.148272    1.000000"
      ]
     },
     "metadata": {},
     "output_type": "display_data"
    },
    {
     "data": {
      "text/plain": [
       "<AxesSubplot:>"
      ]
     },
     "execution_count": 49,
     "metadata": {},
     "output_type": "execute_result"
    },
    {
     "data": {
      "image/png": "[encoded data removed]",
      "text/plain": [
       "<Figure size 700x400 with 2 Axes>"
      ]
     },
     "metadata": {},
     "output_type": "display_data"
    }
   ],
   "source": [
    "# calculate the corr and vis it\n",
    "correlation = df.corr(numeric_only=True)\n",
    "display(correlation)\n",
    "plt.figure(figsize=(7,4))\n",
    "sns.heatmap(correlation, annot=True)"
   ]
  },
  {
   "cell_type": "markdown",
   "id": "abc82353",
   "metadata": {},
   "source": [
    "## Feature Engineering"
   ]
  },
  {
   "cell_type": "code",
   "execution_count": 50,
   "id": "10225541",
   "metadata": {},
   "outputs": [
    {
     "data": {
      "text/html": [
       "<div>\n",
       "<style scoped>\n",
       "    .dataframe tbody tr th:only-of-type {\n",
       "        vertical-align: middle;\n",
       "    }\n",
       "\n",
       "    .dataframe tbody tr th {\n",
       "        vertical-align: top;\n",
       "    }\n",
       "\n",
       "    .dataframe thead th {\n",
       "        text-align: right;\n",
       "    }\n",
       "</style>\n",
       "<table border=\"1\" class=\"dataframe\">\n",
       "  <thead>\n",
       "    <tr style=\"text-align: right;\">\n",
       "      <th></th>\n",
       "      <th>Order_ID</th>\n",
       "      <th>Product</th>\n",
       "      <th>Quantity_Ordered</th>\n",
       "      <th>Price_Each</th>\n",
       "      <th>Order_Date</th>\n",
       "      <th>Purchase_Address</th>\n",
       "      <th>State_Key</th>\n",
       "    </tr>\n",
       "  </thead>\n",
       "  <tbody>\n",
       "    <tr>\n",
       "      <th>0</th>\n",
       "      <td>162037</td>\n",
       "      <td>iPhone</td>\n",
       "      <td>1</td>\n",
       "      <td>700.0</td>\n",
       "      <td>2019-03-23 02:11:00+00:00</td>\n",
       "      <td>277 Elm St, Los Angeles, CA 90001</td>\n",
       "      <td>CA 90001</td>\n",
       "    </tr>\n",
       "    <tr>\n",
       "      <th>1</th>\n",
       "      <td>162084</td>\n",
       "      <td>iPhone</td>\n",
       "      <td>1</td>\n",
       "      <td>700.0</td>\n",
       "      <td>2019-03-27 12:53:00+00:00</td>\n",
       "      <td>585 14th St, Los Angeles, CA 90001</td>\n",
       "      <td>CA 90001</td>\n",
       "    </tr>\n",
       "  </tbody>\n",
       "</table>\n",
       "</div>"
      ],
      "text/plain": [
       "   Order_ID Product  Quantity_Ordered  Price_Each                Order_Date   \n",
       "0    162037  iPhone                 1       700.0 2019-03-23 02:11:00+00:00  \\\n",
       "1    162084  iPhone                 1       700.0 2019-03-27 12:53:00+00:00   \n",
       "\n",
       "                     Purchase_Address State_Key  \n",
       "0   277 Elm St, Los Angeles, CA 90001  CA 90001  \n",
       "1  585 14th St, Los Angeles, CA 90001  CA 90001  "
      ]
     },
     "execution_count": 50,
     "metadata": {},
     "output_type": "execute_result"
    }
   ],
   "source": [
    "df.head(2)"
   ]
  },
  {
   "cell_type": "code",
   "execution_count": 51,
   "id": "19e5fc82",
   "metadata": {},
   "outputs": [
    {
     "data": {
      "text/html": [
       "<div>\n",
       "<style scoped>\n",
       "    .dataframe tbody tr th:only-of-type {\n",
       "        vertical-align: middle;\n",
       "    }\n",
       "\n",
       "    .dataframe tbody tr th {\n",
       "        vertical-align: top;\n",
       "    }\n",
       "\n",
       "    .dataframe thead th {\n",
       "        text-align: right;\n",
       "    }\n",
       "</style>\n",
       "<table border=\"1\" class=\"dataframe\">\n",
       "  <thead>\n",
       "    <tr style=\"text-align: right;\">\n",
       "      <th></th>\n",
       "      <th>Order_ID</th>\n",
       "      <th>Product</th>\n",
       "      <th>Quantity_Ordered</th>\n",
       "      <th>Price_Each</th>\n",
       "      <th>Order_Date</th>\n",
       "      <th>Purchase_Address</th>\n",
       "      <th>State_Key</th>\n",
       "      <th>SKey</th>\n",
       "    </tr>\n",
       "  </thead>\n",
       "  <tbody>\n",
       "    <tr>\n",
       "      <th>0</th>\n",
       "      <td>162037</td>\n",
       "      <td>iPhone</td>\n",
       "      <td>1</td>\n",
       "      <td>700.0</td>\n",
       "      <td>2019-03-23 02:11:00+00:00</td>\n",
       "      <td>277 Elm St, Los Angeles, CA 90001</td>\n",
       "      <td>CA 90001</td>\n",
       "      <td>CA</td>\n",
       "    </tr>\n",
       "    <tr>\n",
       "      <th>1</th>\n",
       "      <td>162084</td>\n",
       "      <td>iPhone</td>\n",
       "      <td>1</td>\n",
       "      <td>700.0</td>\n",
       "      <td>2019-03-27 12:53:00+00:00</td>\n",
       "      <td>585 14th St, Los Angeles, CA 90001</td>\n",
       "      <td>CA 90001</td>\n",
       "      <td>CA</td>\n",
       "    </tr>\n",
       "  </tbody>\n",
       "</table>\n",
       "</div>"
      ],
      "text/plain": [
       "   Order_ID Product  Quantity_Ordered  Price_Each                Order_Date   \n",
       "0    162037  iPhone                 1       700.0 2019-03-23 02:11:00+00:00  \\\n",
       "1    162084  iPhone                 1       700.0 2019-03-27 12:53:00+00:00   \n",
       "\n",
       "                     Purchase_Address State_Key SKey  \n",
       "0   277 Elm St, Los Angeles, CA 90001  CA 90001   CA  \n",
       "1  585 14th St, Los Angeles, CA 90001  CA 90001   CA  "
      ]
     },
     "execution_count": 51,
     "metadata": {},
     "output_type": "execute_result"
    }
   ],
   "source": [
    "# add the state unique key\n",
    "df['SKey'] = df['State_Key'].apply(lambda x: x.split(\" \")[0])\n",
    "df.head(2)"
   ]
  },
  {
   "cell_type": "code",
   "execution_count": 52,
   "id": "bfedc426",
   "metadata": {},
   "outputs": [
    {
     "data": {
      "text/html": [
       "<div>\n",
       "<style scoped>\n",
       "    .dataframe tbody tr th:only-of-type {\n",
       "        vertical-align: middle;\n",
       "    }\n",
       "\n",
       "    .dataframe tbody tr th {\n",
       "        vertical-align: top;\n",
       "    }\n",
       "\n",
       "    .dataframe thead th {\n",
       "        text-align: right;\n",
       "    }\n",
       "</style>\n",
       "<table border=\"1\" class=\"dataframe\">\n",
       "  <thead>\n",
       "    <tr style=\"text-align: right;\">\n",
       "      <th></th>\n",
       "      <th>Order_ID</th>\n",
       "      <th>Product</th>\n",
       "      <th>Quantity_Ordered</th>\n",
       "      <th>Price_Each</th>\n",
       "      <th>Order_Date</th>\n",
       "      <th>Purchase_Address</th>\n",
       "      <th>State_Key</th>\n",
       "      <th>SKey</th>\n",
       "      <th>Postal Key</th>\n",
       "    </tr>\n",
       "  </thead>\n",
       "  <tbody>\n",
       "    <tr>\n",
       "      <th>0</th>\n",
       "      <td>162037</td>\n",
       "      <td>iPhone</td>\n",
       "      <td>1</td>\n",
       "      <td>700.0</td>\n",
       "      <td>2019-03-23 02:11:00+00:00</td>\n",
       "      <td>277 Elm St, Los Angeles, CA 90001</td>\n",
       "      <td>CA 90001</td>\n",
       "      <td>CA</td>\n",
       "      <td>90001</td>\n",
       "    </tr>\n",
       "    <tr>\n",
       "      <th>1</th>\n",
       "      <td>162084</td>\n",
       "      <td>iPhone</td>\n",
       "      <td>1</td>\n",
       "      <td>700.0</td>\n",
       "      <td>2019-03-27 12:53:00+00:00</td>\n",
       "      <td>585 14th St, Los Angeles, CA 90001</td>\n",
       "      <td>CA 90001</td>\n",
       "      <td>CA</td>\n",
       "      <td>90001</td>\n",
       "    </tr>\n",
       "  </tbody>\n",
       "</table>\n",
       "</div>"
      ],
      "text/plain": [
       "   Order_ID Product  Quantity_Ordered  Price_Each                Order_Date   \n",
       "0    162037  iPhone                 1       700.0 2019-03-23 02:11:00+00:00  \\\n",
       "1    162084  iPhone                 1       700.0 2019-03-27 12:53:00+00:00   \n",
       "\n",
       "                     Purchase_Address State_Key SKey Postal Key  \n",
       "0   277 Elm St, Los Angeles, CA 90001  CA 90001   CA      90001  \n",
       "1  585 14th St, Los Angeles, CA 90001  CA 90001   CA      90001  "
      ]
     },
     "execution_count": 52,
     "metadata": {},
     "output_type": "execute_result"
    }
   ],
   "source": [
    "# Add Postal code\n",
    "df['Postal Key'] = df['State_Key'].apply(lambda x: x.split(\" \")[1])\n",
    "df.head(2)"
   ]
  },
  {
   "cell_type": "code",
   "execution_count": 54,
   "id": "03d94763",
   "metadata": {},
   "outputs": [
    {
     "data": {
      "text/html": [
       "<div>\n",
       "<style scoped>\n",
       "    .dataframe tbody tr th:only-of-type {\n",
       "        vertical-align: middle;\n",
       "    }\n",
       "\n",
       "    .dataframe tbody tr th {\n",
       "        vertical-align: top;\n",
       "    }\n",
       "\n",
       "    .dataframe thead th {\n",
       "        text-align: right;\n",
       "    }\n",
       "</style>\n",
       "<table border=\"1\" class=\"dataframe\">\n",
       "  <thead>\n",
       "    <tr style=\"text-align: right;\">\n",
       "      <th></th>\n",
       "      <th>Order_ID</th>\n",
       "      <th>Product</th>\n",
       "      <th>Quantity_Ordered</th>\n",
       "      <th>Price_Each</th>\n",
       "      <th>Order_Date</th>\n",
       "      <th>Purchase_Address</th>\n",
       "      <th>State_Key</th>\n",
       "      <th>SKey</th>\n",
       "      <th>Postal Key</th>\n",
       "      <th>State Name</th>\n",
       "    </tr>\n",
       "  </thead>\n",
       "  <tbody>\n",
       "    <tr>\n",
       "      <th>0</th>\n",
       "      <td>162037</td>\n",
       "      <td>iPhone</td>\n",
       "      <td>1</td>\n",
       "      <td>700.0</td>\n",
       "      <td>2019-03-23 02:11:00+00:00</td>\n",
       "      <td>277 Elm St, Los Angeles, CA 90001</td>\n",
       "      <td>CA 90001</td>\n",
       "      <td>CA</td>\n",
       "      <td>90001</td>\n",
       "      <td>Los Angeles</td>\n",
       "    </tr>\n",
       "    <tr>\n",
       "      <th>1</th>\n",
       "      <td>162084</td>\n",
       "      <td>iPhone</td>\n",
       "      <td>1</td>\n",
       "      <td>700.0</td>\n",
       "      <td>2019-03-27 12:53:00+00:00</td>\n",
       "      <td>585 14th St, Los Angeles, CA 90001</td>\n",
       "      <td>CA 90001</td>\n",
       "      <td>CA</td>\n",
       "      <td>90001</td>\n",
       "      <td>Los Angeles</td>\n",
       "    </tr>\n",
       "  </tbody>\n",
       "</table>\n",
       "</div>"
      ],
      "text/plain": [
       "   Order_ID Product  Quantity_Ordered  Price_Each                Order_Date   \n",
       "0    162037  iPhone                 1       700.0 2019-03-23 02:11:00+00:00  \\\n",
       "1    162084  iPhone                 1       700.0 2019-03-27 12:53:00+00:00   \n",
       "\n",
       "                     Purchase_Address State_Key SKey Postal Key    State Name  \n",
       "0   277 Elm St, Los Angeles, CA 90001  CA 90001   CA      90001   Los Angeles  \n",
       "1  585 14th St, Los Angeles, CA 90001  CA 90001   CA      90001   Los Angeles  "
      ]
     },
     "execution_count": 54,
     "metadata": {},
     "output_type": "execute_result"
    }
   ],
   "source": [
    "# Add State Name\n",
    "df['State Name'] = df['Purchase_Address'].apply(lambda x: x.split(\",\")[1].split(\",\")[0])\n",
    "df.head(2)"
   ]
  },
  {
   "cell_type": "code",
   "execution_count": 88,
   "id": "09d2d12f",
   "metadata": {},
   "outputs": [
    {
     "data": {
      "text/html": [
       "<div>\n",
       "<style scoped>\n",
       "    .dataframe tbody tr th:only-of-type {\n",
       "        vertical-align: middle;\n",
       "    }\n",
       "\n",
       "    .dataframe tbody tr th {\n",
       "        vertical-align: top;\n",
       "    }\n",
       "\n",
       "    .dataframe thead th {\n",
       "        text-align: right;\n",
       "    }\n",
       "</style>\n",
       "<table border=\"1\" class=\"dataframe\">\n",
       "  <thead>\n",
       "    <tr style=\"text-align: right;\">\n",
       "      <th></th>\n",
       "      <th>Order_ID</th>\n",
       "      <th>Product</th>\n",
       "      <th>Quantity_Ordered</th>\n",
       "      <th>Price_Each</th>\n",
       "      <th>Order_Date</th>\n",
       "      <th>Purchase_Address</th>\n",
       "      <th>State_Key</th>\n",
       "      <th>SKey</th>\n",
       "      <th>Postal Key</th>\n",
       "      <th>State Name</th>\n",
       "      <th>Month</th>\n",
       "      <th>Year</th>\n",
       "      <th>Quarter</th>\n",
       "    </tr>\n",
       "  </thead>\n",
       "  <tbody>\n",
       "    <tr>\n",
       "      <th>0</th>\n",
       "      <td>162037</td>\n",
       "      <td>iPhone</td>\n",
       "      <td>1</td>\n",
       "      <td>700.0</td>\n",
       "      <td>2019-03-23 02:11:00+00:00</td>\n",
       "      <td>277 Elm St, Los Angeles, CA 90001</td>\n",
       "      <td>CA 90001</td>\n",
       "      <td>CA</td>\n",
       "      <td>90001</td>\n",
       "      <td>Los Angeles</td>\n",
       "      <td>3</td>\n",
       "      <td>2019</td>\n",
       "      <td>1</td>\n",
       "    </tr>\n",
       "    <tr>\n",
       "      <th>1</th>\n",
       "      <td>162084</td>\n",
       "      <td>iPhone</td>\n",
       "      <td>1</td>\n",
       "      <td>700.0</td>\n",
       "      <td>2019-03-27 12:53:00+00:00</td>\n",
       "      <td>585 14th St, Los Angeles, CA 90001</td>\n",
       "      <td>CA 90001</td>\n",
       "      <td>CA</td>\n",
       "      <td>90001</td>\n",
       "      <td>Los Angeles</td>\n",
       "      <td>3</td>\n",
       "      <td>2019</td>\n",
       "      <td>1</td>\n",
       "    </tr>\n",
       "  </tbody>\n",
       "</table>\n",
       "</div>"
      ],
      "text/plain": [
       "   Order_ID Product  Quantity_Ordered  Price_Each                Order_Date   \n",
       "0    162037  iPhone                 1       700.0 2019-03-23 02:11:00+00:00  \\\n",
       "1    162084  iPhone                 1       700.0 2019-03-27 12:53:00+00:00   \n",
       "\n",
       "                     Purchase_Address State_Key SKey Postal Key    State Name   \n",
       "0   277 Elm St, Los Angeles, CA 90001  CA 90001   CA      90001   Los Angeles  \\\n",
       "1  585 14th St, Los Angeles, CA 90001  CA 90001   CA      90001   Los Angeles   \n",
       "\n",
       "   Month  Year  Quarter  \n",
       "0      3  2019        1  \n",
       "1      3  2019        1  "
      ]
     },
     "execution_count": 88,
     "metadata": {},
     "output_type": "execute_result"
    }
   ],
   "source": [
    "# add month & year & quarter\n",
    "df['Month'] = df['Order_Date'].dt.month\n",
    "df['Year'] = df['Order_Date'].dt.year\n",
    "df['Quarter'] = df['Order_Date'].dt.quarter\n",
    "df.head(2)"
   ]
  },
  {
   "cell_type": "code",
   "execution_count": 90,
   "id": "a4fd3365",
   "metadata": {},
   "outputs": [
    {
     "data": {
      "text/html": [
       "<div>\n",
       "<style scoped>\n",
       "    .dataframe tbody tr th:only-of-type {\n",
       "        vertical-align: middle;\n",
       "    }\n",
       "\n",
       "    .dataframe tbody tr th {\n",
       "        vertical-align: top;\n",
       "    }\n",
       "\n",
       "    .dataframe thead th {\n",
       "        text-align: right;\n",
       "    }\n",
       "</style>\n",
       "<table border=\"1\" class=\"dataframe\">\n",
       "  <thead>\n",
       "    <tr style=\"text-align: right;\">\n",
       "      <th></th>\n",
       "      <th>Order_ID</th>\n",
       "      <th>Product</th>\n",
       "      <th>Quantity_Ordered</th>\n",
       "      <th>Price_Each</th>\n",
       "      <th>Order_Date</th>\n",
       "      <th>Purchase_Address</th>\n",
       "      <th>State_Key</th>\n",
       "      <th>SKey</th>\n",
       "      <th>Postal Key</th>\n",
       "      <th>State Name</th>\n",
       "      <th>Month</th>\n",
       "      <th>Year</th>\n",
       "      <th>Quarter</th>\n",
       "      <th>Total Sales</th>\n",
       "    </tr>\n",
       "  </thead>\n",
       "  <tbody>\n",
       "    <tr>\n",
       "      <th>0</th>\n",
       "      <td>162037</td>\n",
       "      <td>iPhone</td>\n",
       "      <td>1</td>\n",
       "      <td>700.0</td>\n",
       "      <td>2019-03-23 02:11:00+00:00</td>\n",
       "      <td>277 Elm St, Los Angeles, CA 90001</td>\n",
       "      <td>CA 90001</td>\n",
       "      <td>CA</td>\n",
       "      <td>90001</td>\n",
       "      <td>Los Angeles</td>\n",
       "      <td>3</td>\n",
       "      <td>2019</td>\n",
       "      <td>1</td>\n",
       "      <td>700.0</td>\n",
       "    </tr>\n",
       "    <tr>\n",
       "      <th>1</th>\n",
       "      <td>162084</td>\n",
       "      <td>iPhone</td>\n",
       "      <td>1</td>\n",
       "      <td>700.0</td>\n",
       "      <td>2019-03-27 12:53:00+00:00</td>\n",
       "      <td>585 14th St, Los Angeles, CA 90001</td>\n",
       "      <td>CA 90001</td>\n",
       "      <td>CA</td>\n",
       "      <td>90001</td>\n",
       "      <td>Los Angeles</td>\n",
       "      <td>3</td>\n",
       "      <td>2019</td>\n",
       "      <td>1</td>\n",
       "      <td>700.0</td>\n",
       "    </tr>\n",
       "  </tbody>\n",
       "</table>\n",
       "</div>"
      ],
      "text/plain": [
       "   Order_ID Product  Quantity_Ordered  Price_Each                Order_Date   \n",
       "0    162037  iPhone                 1       700.0 2019-03-23 02:11:00+00:00  \\\n",
       "1    162084  iPhone                 1       700.0 2019-03-27 12:53:00+00:00   \n",
       "\n",
       "                     Purchase_Address State_Key SKey Postal Key    State Name   \n",
       "0   277 Elm St, Los Angeles, CA 90001  CA 90001   CA      90001   Los Angeles  \\\n",
       "1  585 14th St, Los Angeles, CA 90001  CA 90001   CA      90001   Los Angeles   \n",
       "\n",
       "   Month  Year  Quarter  Total Sales  \n",
       "0      3  2019        1        700.0  \n",
       "1      3  2019        1        700.0  "
      ]
     },
     "execution_count": 90,
     "metadata": {},
     "output_type": "execute_result"
    }
   ],
   "source": [
    "# add total sales\n",
    "df['Total Sales'] = df['Quantity_Ordered'] * df['Price_Each']\n",
    "df.head(2)"
   ]
  },
  {
   "cell_type": "markdown",
   "id": "d6b8b0c2",
   "metadata": {},
   "source": [
    "## Data Analysis"
   ]
  },
  {
   "cell_type": "markdown",
   "id": "f251f60c",
   "metadata": {},
   "source": [
    "### Q1:) Highest Top Ordered Products & the Lowest Ones ?"
   ]
  },
  {
   "cell_type": "code",
   "execution_count": 80,
   "id": "df4e84fa",
   "metadata": {
    "scrolled": false
   },
   "outputs": [
    {
     "name": "stdout",
     "output_type": "stream",
     "text": [
      "Product\n",
      "AAA Batteries (4-pack)        31017\n",
      "AA Batteries (4-pack)         27635\n",
      "USB-C Charging Cable          23975\n",
      "Lightning Charging Cable      23217\n",
      "Wired Headphones              20557\n",
      "Apple Airpods Headphones      15661\n",
      "Bose SoundSport Headphones    13457\n",
      "27in FHD Monitor               7550\n",
      "iPhone                         6849\n",
      "27in 4K Gaming Monitor         6244\n",
      "Name: Quantity_Ordered, dtype: Int64\n"
     ]
    },
    {
     "data": {
      "text/plain": [
       "<AxesSubplot:title={'center':'Highest Top Products'}, xlabel='Product'>"
      ]
     },
     "execution_count": 80,
     "metadata": {},
     "output_type": "execute_result"
    },
    {
     "data": {
      "image/png": "[encoded data removed]",
      "text/plain": [
       "<Figure size 1200x300 with 1 Axes>"
      ]
     },
     "metadata": {},
     "output_type": "display_data"
    }
   ],
   "source": [
    "q1 = df.groupby('Product')['Quantity_Ordered'].sum().nlargest(10)\n",
    "print(q1)\n",
    "plt.figure(figsize=(12,3))\n",
    "sns.set_palette('crest')\n",
    "plt.title(\"Highest Top Products\")\n",
    "q1.plot.bar()"
   ]
  },
  {
   "cell_type": "code",
   "execution_count": 83,
   "id": "039659a4",
   "metadata": {},
   "outputs": [
    {
     "name": "stdout",
     "output_type": "stream",
     "text": [
      "Product\n",
      "LG Dryer                   646\n",
      "LG Washing Machine         666\n",
      "Vareebadd Phone           2068\n",
      "20in Monitor              4129\n",
      "ThinkPad Laptop           4130\n",
      "Macbook Pro Laptop        4728\n",
      "Flatscreen TV             4819\n",
      "Google Phone              5532\n",
      "34in Ultrawide Monitor    6199\n",
      "27in 4K Gaming Monitor    6244\n",
      "Name: Quantity_Ordered, dtype: Int64\n"
     ]
    },
    {
     "data": {
      "text/plain": [
       "<AxesSubplot:title={'center':'Lowest Products'}, xlabel='Product'>"
      ]
     },
     "execution_count": 83,
     "metadata": {},
     "output_type": "execute_result"
    },
    {
     "data": {
      "image/png": "[encoded data removed]",
      "text/plain": [
       "<Figure size 1200x300 with 1 Axes>"
      ]
     },
     "metadata": {},
     "output_type": "display_data"
    }
   ],
   "source": [
    "q1_2 = df.groupby('Product')['Quantity_Ordered'].sum().nsmallest(10)\n",
    "print(q1_2)\n",
    "plt.figure(figsize=(12,3))\n",
    "plt.title(\"Lowest Products\")\n",
    "q1_2.plot.bar(color='red')"
   ]
  },
  {
   "cell_type": "markdown",
   "id": "900a1c93",
   "metadata": {},
   "source": [
    "### Q2:) Highest Top 5 Months with Total Sales in 2019?"
   ]
  },
  {
   "cell_type": "code",
   "execution_count": 91,
   "id": "f08e03c0",
   "metadata": {},
   "outputs": [
    {
     "data": {
      "text/html": [
       "<div>\n",
       "<style scoped>\n",
       "    .dataframe tbody tr th:only-of-type {\n",
       "        vertical-align: middle;\n",
       "    }\n",
       "\n",
       "    .dataframe tbody tr th {\n",
       "        vertical-align: top;\n",
       "    }\n",
       "\n",
       "    .dataframe thead th {\n",
       "        text-align: right;\n",
       "    }\n",
       "</style>\n",
       "<table border=\"1\" class=\"dataframe\">\n",
       "  <thead>\n",
       "    <tr style=\"text-align: right;\">\n",
       "      <th></th>\n",
       "      <th>Order_ID</th>\n",
       "      <th>Product</th>\n",
       "      <th>Quantity_Ordered</th>\n",
       "      <th>Price_Each</th>\n",
       "      <th>Order_Date</th>\n",
       "      <th>Purchase_Address</th>\n",
       "      <th>State_Key</th>\n",
       "      <th>SKey</th>\n",
       "      <th>Postal Key</th>\n",
       "      <th>State Name</th>\n",
       "      <th>Month</th>\n",
       "      <th>Year</th>\n",
       "      <th>Quarter</th>\n",
       "      <th>Total Sales</th>\n",
       "    </tr>\n",
       "  </thead>\n",
       "  <tbody>\n",
       "    <tr>\n",
       "      <th>0</th>\n",
       "      <td>162037</td>\n",
       "      <td>iPhone</td>\n",
       "      <td>1</td>\n",
       "      <td>700.0</td>\n",
       "      <td>2019-03-23 02:11:00+00:00</td>\n",
       "      <td>277 Elm St, Los Angeles, CA 90001</td>\n",
       "      <td>CA 90001</td>\n",
       "      <td>CA</td>\n",
       "      <td>90001</td>\n",
       "      <td>Los Angeles</td>\n",
       "      <td>3</td>\n",
       "      <td>2019</td>\n",
       "      <td>1</td>\n",
       "      <td>700.0</td>\n",
       "    </tr>\n",
       "    <tr>\n",
       "      <th>1</th>\n",
       "      <td>162084</td>\n",
       "      <td>iPhone</td>\n",
       "      <td>1</td>\n",
       "      <td>700.0</td>\n",
       "      <td>2019-03-27 12:53:00+00:00</td>\n",
       "      <td>585 14th St, Los Angeles, CA 90001</td>\n",
       "      <td>CA 90001</td>\n",
       "      <td>CA</td>\n",
       "      <td>90001</td>\n",
       "      <td>Los Angeles</td>\n",
       "      <td>3</td>\n",
       "      <td>2019</td>\n",
       "      <td>1</td>\n",
       "      <td>700.0</td>\n",
       "    </tr>\n",
       "    <tr>\n",
       "      <th>2</th>\n",
       "      <td>162325</td>\n",
       "      <td>iPhone</td>\n",
       "      <td>1</td>\n",
       "      <td>700.0</td>\n",
       "      <td>2019-03-26 23:54:00+00:00</td>\n",
       "      <td>789 6th St, Los Angeles, CA 90001</td>\n",
       "      <td>CA 90001</td>\n",
       "      <td>CA</td>\n",
       "      <td>90001</td>\n",
       "      <td>Los Angeles</td>\n",
       "      <td>3</td>\n",
       "      <td>2019</td>\n",
       "      <td>1</td>\n",
       "      <td>700.0</td>\n",
       "    </tr>\n",
       "    <tr>\n",
       "      <th>3</th>\n",
       "      <td>162338</td>\n",
       "      <td>iPhone</td>\n",
       "      <td>1</td>\n",
       "      <td>700.0</td>\n",
       "      <td>2019-03-22 00:42:00+00:00</td>\n",
       "      <td>516 Madison St, Los Angeles, CA 90001</td>\n",
       "      <td>CA 90001</td>\n",
       "      <td>CA</td>\n",
       "      <td>90001</td>\n",
       "      <td>Los Angeles</td>\n",
       "      <td>3</td>\n",
       "      <td>2019</td>\n",
       "      <td>1</td>\n",
       "      <td>700.0</td>\n",
       "    </tr>\n",
       "    <tr>\n",
       "      <th>4</th>\n",
       "      <td>182018</td>\n",
       "      <td>iPhone</td>\n",
       "      <td>1</td>\n",
       "      <td>700.0</td>\n",
       "      <td>2019-04-21 15:37:00+00:00</td>\n",
       "      <td>165 13th St, Los Angeles, CA 90001</td>\n",
       "      <td>CA 90001</td>\n",
       "      <td>CA</td>\n",
       "      <td>90001</td>\n",
       "      <td>Los Angeles</td>\n",
       "      <td>4</td>\n",
       "      <td>2019</td>\n",
       "      <td>2</td>\n",
       "      <td>700.0</td>\n",
       "    </tr>\n",
       "  </tbody>\n",
       "</table>\n",
       "</div>"
      ],
      "text/plain": [
       "   Order_ID Product  Quantity_Ordered  Price_Each                Order_Date   \n",
       "0    162037  iPhone                 1       700.0 2019-03-23 02:11:00+00:00  \\\n",
       "1    162084  iPhone                 1       700.0 2019-03-27 12:53:00+00:00   \n",
       "2    162325  iPhone                 1       700.0 2019-03-26 23:54:00+00:00   \n",
       "3    162338  iPhone                 1       700.0 2019-03-22 00:42:00+00:00   \n",
       "4    182018  iPhone                 1       700.0 2019-04-21 15:37:00+00:00   \n",
       "\n",
       "                        Purchase_Address State_Key SKey Postal Key   \n",
       "0      277 Elm St, Los Angeles, CA 90001  CA 90001   CA      90001  \\\n",
       "1     585 14th St, Los Angeles, CA 90001  CA 90001   CA      90001   \n",
       "2      789 6th St, Los Angeles, CA 90001  CA 90001   CA      90001   \n",
       "3  516 Madison St, Los Angeles, CA 90001  CA 90001   CA      90001   \n",
       "4     165 13th St, Los Angeles, CA 90001  CA 90001   CA      90001   \n",
       "\n",
       "     State Name  Month  Year  Quarter  Total Sales  \n",
       "0   Los Angeles      3  2019        1        700.0  \n",
       "1   Los Angeles      3  2019        1        700.0  \n",
       "2   Los Angeles      3  2019        1        700.0  \n",
       "3   Los Angeles      3  2019        1        700.0  \n",
       "4   Los Angeles      4  2019        2        700.0  "
      ]
     },
     "execution_count": 91,
     "metadata": {},
     "output_type": "execute_result"
    }
   ],
   "source": [
    "df.head(5)"
   ]
  },
  {
   "cell_type": "code",
   "execution_count": 107,
   "id": "37310ac8",
   "metadata": {},
   "outputs": [
    {
     "name": "stdout",
     "output_type": "stream",
     "text": [
      "Month\n",
      "12    4613443.34\n",
      "10    3736726.88\n",
      "4     3390670.24\n",
      "11     3199603.2\n",
      "5     3152606.75\n",
      "3     2807100.38\n",
      "7     2647775.76\n",
      "6     2577802.26\n",
      "8     2244467.88\n",
      "2     2202022.42\n",
      "9     2097560.13\n",
      "1     1813586.44\n",
      "Name: Total Sales, dtype: Float64\n"
     ]
    },
    {
     "data": {
      "image/png": "[encoded data removed]",
      "text/plain": [
       "<Figure size 1200x300 with 1 Axes>"
      ]
     },
     "metadata": {},
     "output_type": "display_data"
    }
   ],
   "source": [
    "q2=df[df['Year'] == 2019].groupby('Month')['Total Sales'].sum()\n",
    "plt.figure(figsize=(12,3))\n",
    "sns.set_palette('magma')\n",
    "plt.title(\"Top 5 Months in Total Sales\")\n",
    "q2.plot.area()\n",
    "print(q2.sort_values(ascending=False))"
   ]
  },
  {
   "cell_type": "markdown",
   "id": "9ccf4ea6",
   "metadata": {},
   "source": [
    "**12,10,4,11,5** Months are the Hightest Sales "
   ]
  },
  {
   "cell_type": "markdown",
   "id": "33fd3843",
   "metadata": {},
   "source": [
    "### Q3:) Highest Top 10 States with Total Sales ?"
   ]
  },
  {
   "cell_type": "code",
   "execution_count": 106,
   "id": "55734328",
   "metadata": {
    "scrolled": false
   },
   "outputs": [
    {
     "name": "stdout",
     "output_type": "stream",
     "text": [
      "State Name\n",
      " San Francisco    8262203.91\n",
      " Los Angeles       5452570.8\n",
      " New York City    4664317.43\n",
      " Boston           3661642.01\n",
      " Atlanta          2795498.58\n",
      " Dallas            2767975.4\n",
      " Seattle          2747755.48\n",
      " Portland         2320490.61\n",
      " Austin           1819581.75\n",
      "Name: Total Sales, dtype: Float64\n"
     ]
    },
    {
     "data": {
      "image/png": "[encoded data removed]",
      "text/plain": [
       "<Figure size 1200x300 with 1 Axes>"
      ]
     },
     "metadata": {},
     "output_type": "display_data"
    }
   ],
   "source": [
    "q3=df.groupby('State Name')['Total Sales'].sum().nlargest(10)\n",
    "plt.figure(figsize=(12,3))\n",
    "sns.set_palette('magma')\n",
    "plt.title(\"Top 10 Sates in Total Sales\")\n",
    "q3.plot.bar()\n",
    "print(q3)"
   ]
  },
  {
   "cell_type": "markdown",
   "id": "62baba43",
   "metadata": {},
   "source": [
    "### Q4) Are the Iphone and Google Phones are nearly Equal in Quantity Orders?"
   ]
  },
  {
   "cell_type": "code",
   "execution_count": 155,
   "id": "abca1727",
   "metadata": {},
   "outputs": [
    {
     "data": {
      "text/html": [
       "<table class=\"simpletable\">\n",
       "<caption>Multiple Comparison of Means - Tukey HSD, FWER=0.05</caption>\n",
       "<tr>\n",
       "     <th>group1</th>    <th>group2</th> <th>meandiff</th>  <th>p-adj</th>  <th>lower</th>   <th>upper</th> <th>reject</th>\n",
       "</tr>\n",
       "<tr>\n",
       "  <td>Google Phone</td> <td>iPhone</td>  <td>-0.0002</td> <td>0.6885</td> <td>-0.0014</td> <td>0.0009</td>  <td>False</td>\n",
       "</tr>\n",
       "</table>"
      ],
      "text/plain": [
       "<class 'statsmodels.iolib.table.SimpleTable'>"
      ]
     },
     "execution_count": 155,
     "metadata": {},
     "output_type": "execute_result"
    },
    {
     "data": {
      "image/png": "[encoded data removed]",
      "text/plain": [
       "<Figure size 1000x600 with 1 Axes>"
      ]
     },
     "metadata": {},
     "output_type": "display_data"
    }
   ],
   "source": [
    "# using hypothesis test\n",
    "test_data = df[df['Product'].isin(['iPhone','Google Phone'])][['Product','Quantity_Ordered']]\n",
    "\n",
    "test_data['Product']=test_data['Product'].astype('str')\n",
    "test_data['Quantity_Ordered'] = test_data['Quantity_Ordered'].astype(float)\n",
    "\n",
    "tukey = pairwise_tukeyhsd(endog=np.array(test_data['Quantity_Ordered'].values),     # Data\n",
    "                          groups=np.array(test_data['Product'].values),   # Groups\n",
    "                          alpha=0.05)          # Significance level\n",
    "tukey.plot_simultaneous()    # Plot group confidence intervals\n",
    "\n",
    "tukey.summary()     "
   ]
  },
  {
   "cell_type": "markdown",
   "id": "d0384e92",
   "metadata": {},
   "source": [
    "**Accept the Null Hypothesis means there is no significant difference between 'em**"
   ]
  },
  {
   "cell_type": "markdown",
   "id": "7bd40064",
   "metadata": {},
   "source": [
    "### Check the Patterns in the data"
   ]
  },
  {
   "cell_type": "code",
   "execution_count": 213,
   "id": "c6e7ffdc",
   "metadata": {},
   "outputs": [
    {
     "data": {
      "text/plain": [
       "Index(['Order_ID', 'Product', 'Quantity_Ordered', 'Price_Each', 'Order_Date',\n",
       "       'Purchase_Address', 'State_Key', 'SKey', 'Postal Key', 'State Name',\n",
       "       'Month', 'Year', 'Quarter', 'Total Sales'],\n",
       "      dtype='object')"
      ]
     },
     "execution_count": 213,
     "metadata": {},
     "output_type": "execute_result"
    }
   ],
   "source": [
    "df.columns"
   ]
  },
  {
   "cell_type": "code",
   "execution_count": 214,
   "id": "d725b43a",
   "metadata": {
    "scrolled": true
   },
   "outputs": [
    {
     "data": {
      "text/html": [
       "<div>\n",
       "<style scoped>\n",
       "    .dataframe tbody tr th:only-of-type {\n",
       "        vertical-align: middle;\n",
       "    }\n",
       "\n",
       "    .dataframe tbody tr th {\n",
       "        vertical-align: top;\n",
       "    }\n",
       "\n",
       "    .dataframe thead th {\n",
       "        text-align: right;\n",
       "    }\n",
       "</style>\n",
       "<table border=\"1\" class=\"dataframe\">\n",
       "  <thead>\n",
       "    <tr style=\"text-align: right;\">\n",
       "      <th></th>\n",
       "      <th>Product</th>\n",
       "      <th>Quantity_Ordered</th>\n",
       "      <th>Price_Each</th>\n",
       "      <th>SKey</th>\n",
       "      <th>Postal Key</th>\n",
       "      <th>Month</th>\n",
       "      <th>Year</th>\n",
       "      <th>Quarter</th>\n",
       "      <th>Total Sales</th>\n",
       "    </tr>\n",
       "  </thead>\n",
       "  <tbody>\n",
       "    <tr>\n",
       "      <th>0</th>\n",
       "      <td>iPhone</td>\n",
       "      <td>1</td>\n",
       "      <td>700.0</td>\n",
       "      <td>CA</td>\n",
       "      <td>90001</td>\n",
       "      <td>3</td>\n",
       "      <td>2019</td>\n",
       "      <td>1</td>\n",
       "      <td>700.0</td>\n",
       "    </tr>\n",
       "    <tr>\n",
       "      <th>1</th>\n",
       "      <td>iPhone</td>\n",
       "      <td>1</td>\n",
       "      <td>700.0</td>\n",
       "      <td>CA</td>\n",
       "      <td>90001</td>\n",
       "      <td>3</td>\n",
       "      <td>2019</td>\n",
       "      <td>1</td>\n",
       "      <td>700.0</td>\n",
       "    </tr>\n",
       "  </tbody>\n",
       "</table>\n",
       "</div>"
      ],
      "text/plain": [
       "  Product  Quantity_Ordered  Price_Each SKey Postal Key  Month  Year  Quarter   \n",
       "0  iPhone                 1       700.0   CA      90001      3  2019        1  \\\n",
       "1  iPhone                 1       700.0   CA      90001      3  2019        1   \n",
       "\n",
       "   Total Sales  \n",
       "0        700.0  \n",
       "1        700.0  "
      ]
     },
     "execution_count": 214,
     "metadata": {},
     "output_type": "execute_result"
    }
   ],
   "source": [
    "new_df=df.drop(['Order_ID','Order_Date','Purchase_Address','State_Key','State Name'],axis=1)\n",
    "new_df.head(2)"
   ]
  },
  {
   "cell_type": "code",
   "execution_count": 215,
   "id": "021d7a9e",
   "metadata": {},
   "outputs": [],
   "source": [
    "new_df['Postal Key'] = new_df['Postal Key'].apply(lambda x:x.replace('\\\"',''))\n",
    "idx = new_df[new_df['Postal Key'].isna()].index\n",
    "new_df.drop(idx,inplace=True)"
   ]
  },
  {
   "cell_type": "code",
   "execution_count": 216,
   "id": "fc3f3cfe",
   "metadata": {
    "scrolled": true
   },
   "outputs": [
    {
     "data": {
      "text/html": [
       "<div>\n",
       "<style scoped>\n",
       "    .dataframe tbody tr th:only-of-type {\n",
       "        vertical-align: middle;\n",
       "    }\n",
       "\n",
       "    .dataframe tbody tr th {\n",
       "        vertical-align: top;\n",
       "    }\n",
       "\n",
       "    .dataframe thead th {\n",
       "        text-align: right;\n",
       "    }\n",
       "</style>\n",
       "<table border=\"1\" class=\"dataframe\">\n",
       "  <thead>\n",
       "    <tr style=\"text-align: right;\">\n",
       "      <th></th>\n",
       "      <th>Product</th>\n",
       "      <th>Quantity_Ordered</th>\n",
       "      <th>Price_Each</th>\n",
       "      <th>SKey</th>\n",
       "      <th>Postal Key</th>\n",
       "      <th>Month</th>\n",
       "      <th>Year</th>\n",
       "      <th>Quarter</th>\n",
       "      <th>Total Sales</th>\n",
       "    </tr>\n",
       "  </thead>\n",
       "  <tbody>\n",
       "    <tr>\n",
       "      <th>0</th>\n",
       "      <td>18</td>\n",
       "      <td>1</td>\n",
       "      <td>700.0</td>\n",
       "      <td>0</td>\n",
       "      <td>90001</td>\n",
       "      <td>3</td>\n",
       "      <td>2019</td>\n",
       "      <td>1</td>\n",
       "      <td>700.0</td>\n",
       "    </tr>\n",
       "    <tr>\n",
       "      <th>1</th>\n",
       "      <td>18</td>\n",
       "      <td>1</td>\n",
       "      <td>700.0</td>\n",
       "      <td>0</td>\n",
       "      <td>90001</td>\n",
       "      <td>3</td>\n",
       "      <td>2019</td>\n",
       "      <td>1</td>\n",
       "      <td>700.0</td>\n",
       "    </tr>\n",
       "  </tbody>\n",
       "</table>\n",
       "</div>"
      ],
      "text/plain": [
       "   Product  Quantity_Ordered  Price_Each  SKey Postal Key  Month  Year   \n",
       "0       18                 1       700.0     0      90001      3  2019  \\\n",
       "1       18                 1       700.0     0      90001      3  2019   \n",
       "\n",
       "   Quarter  Total Sales  \n",
       "0        1        700.0  \n",
       "1        1        700.0  "
      ]
     },
     "execution_count": 216,
     "metadata": {},
     "output_type": "execute_result"
    }
   ],
   "source": [
    "transformation_cols = ['SKey', 'SKey','Product']\n",
    "label_endcoder = LabelEncoder()\n",
    "#new_df['Postal Key'] = new_df['Postal Key'].astype(int)\n",
    "for feature in transformation_cols:\n",
    "    new_df[feature] = label_endcoder.fit_transform(new_df[feature])\n",
    "new_df.head(2)    "
   ]
  },
  {
   "cell_type": "code",
   "execution_count": 219,
   "id": "690902f7",
   "metadata": {},
   "outputs": [
    {
     "data": {
      "text/plain": [
       "array([[9.11981463e+00, 1.12335468e+00, 1.85046150e+02, 2.60061790e+00,\n",
       "        1.21313652e+04, 7.06064751e+00, 2.01900023e+03, 2.68174943e+00,\n",
       "        1.86194064e+02],\n",
       "       [9.14231366e+00, 1.12489903e+00, 1.84075253e+02, 2.43549481e+00,\n",
       "        8.98525801e+04, 7.05838260e+00, 2.01900016e+03, 2.68130270e+00,\n",
       "        1.85137957e+02]])"
      ]
     },
     "execution_count": 219,
     "metadata": {},
     "output_type": "execute_result"
    }
   ],
   "source": [
    "kmeans = KMeans(n_clusters=2)\n",
    "kmeans.fit(new_df)\n",
    "kmeans.cluster_centers_"
   ]
  },
  {
   "cell_type": "code",
   "execution_count": 227,
   "id": "fab41ee6",
   "metadata": {
    "scrolled": false
   },
   "outputs": [
    {
     "data": {
      "image/png": "[encoded data removed]",
      "text/plain": [
       "<Figure size 640x480 with 1 Axes>"
      ]
     },
     "metadata": {},
     "output_type": "display_data"
    }
   ],
   "source": [
    "cs = []\n",
    "for i in range(2, 11):\n",
    "    kmeans = KMeans(n_clusters = i, init = 'k-means++', max_iter = 300, n_init = 10, random_state = 0)\n",
    "    kmeans.fit(new_df)\n",
    "    cs.append(kmeans.inertia_)\n",
    "plt.plot(range(2, 11), cs)\n",
    "plt.title('The Elbow Method')\n",
    "plt.xlabel('Number of clusters')\n",
    "plt.ylabel('CS')\n",
    "plt.show()"
   ]
  },
  {
   "cell_type": "markdown",
   "id": "b3d48728",
   "metadata": {},
   "source": [
    "4 is the optimizal number for clustering"
   ]
  },
  {
   "cell_type": "code",
   "execution_count": 228,
   "id": "46531c24",
   "metadata": {},
   "outputs": [
    {
     "data": {
      "text/plain": [
       "array([[8.99915271e+00, 1.15903993e+00, 4.28596386e+01, 2.48510650e+00,\n",
       "        7.06709540e+00, 2.01900017e+03, 2.68397586e+00, 4.38496869e+01],\n",
       "       [1.37077915e+01, 1.00274664e+00, 7.30440494e+02, 2.48256726e+00,\n",
       "        6.96900224e+00, 2.01900028e+03, 2.65336323e+00, 7.31707293e+02],\n",
       "       [1.30004232e+01, 1.00126957e+00, 1.69970376e+03, 2.49978840e+00,\n",
       "        7.10093102e+00, 2.01900021e+03, 2.69445620e+00, 1.70156580e+03],\n",
       "       [4.99350348e+00, 1.00897138e+00, 3.63699705e+02, 2.53730343e+00,\n",
       "        7.07280227e+00, 2.01900015e+03, 2.68538283e+00, 3.65192336e+02]])"
      ]
     },
     "execution_count": 228,
     "metadata": {},
     "output_type": "execute_result"
    }
   ],
   "source": [
    "kmeans = KMeans(n_clusters=4)\n",
    "kmeans.fit(new_df)\n",
    "kmeans.cluster_centers_"
   ]
  },
  {
   "cell_type": "code",
   "execution_count": 235,
   "id": "8ad6c54d",
   "metadata": {},
   "outputs": [
    {
     "data": {
      "text/plain": [
       "<matplotlib.collections.PathCollection at 0x15f19b15c70>"
      ]
     },
     "execution_count": 235,
     "metadata": {},
     "output_type": "execute_result"
    },
    {
     "data": {
      "image/png": "[encoded data removed]",
      "text/plain": [
       "<Figure size 640x480 with 1 Axes>"
      ]
     },
     "metadata": {},
     "output_type": "display_data"
    }
   ],
   "source": [
    "new_df['Clusters'] = kmeans.labels_\n",
    "plt.scatter(new_df[\"Product\"], \n",
    "            new_df[\"Total Sales\"], \n",
    "            c = new_df[\"Clusters\"])"
   ]
  }
 ],
 "metadata": {
  "kernelspec": {
   "display_name": "Python 3 (ipykernel)",
   "language": "python",
   "name": "python3"
  },
  "language_info": {
   "codemirror_mode": {
    "name": "ipython",
    "version": 3
   },
   "file_extension": ".py",
   "mimetype": "text/x-python",
   "name": "python",
   "nbconvert_exporter": "python",
   "pygments_lexer": "ipython3",
   "version": "3.9.15"
  }
 },
 "nbformat": 4,
 "nbformat_minor": 5
}
